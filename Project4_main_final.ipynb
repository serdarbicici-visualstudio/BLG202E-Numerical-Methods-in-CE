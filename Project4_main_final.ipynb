{
  "cells": [
    {
      "cell_type": "markdown",
      "metadata": {
        "id": "oozuof797Cyq"
      },
      "source": [
        "# BLG202E - Numerical Methods in Comp. Eng. (21332)\n",
        "\n",
        "## Project No 4: Item-based Filtering Enhanced by SVD\n",
        "\n",
        "### Name-Surname: Serdar Biçici\n",
        "\n",
        "### Student Number: 150210331\n",
        "\n",
        "\n"
      ]
    },
    {
      "cell_type": "code",
      "execution_count": null,
      "metadata": {
        "id": "XlZO5Dj07Cyr"
      },
      "outputs": [],
      "source": [
        "import pandas as pd\n",
        "import numpy as np\n",
        "import json\n",
        "import matplotlib.pyplot as plt\n",
        "import cupy as cp"
      ]
    },
    {
      "cell_type": "code",
      "execution_count": null,
      "metadata": {
        "colab": {
          "base_uri": "https://localhost:8080/"
        },
        "id": "6e9pnE9n7FJC",
        "outputId": "04a5c0d4-c078-468a-91ec-a1f2eb1b34f7"
      },
      "outputs": [
        {
          "name": "stdout",
          "output_type": "stream",
          "text": [
            "Mounted at /content/drive\n"
          ]
        }
      ],
      "source": [
        "from google.colab import drive\n",
        "drive.mount('/content/drive')"
      ]
    },
    {
      "cell_type": "code",
      "execution_count": 8,
      "metadata": {
        "id": "Vvh8XtYnujZa"
      },
      "outputs": [],
      "source": [
        "data_file = \"/content/drive/MyDrive/GDB - foto/sample.json\""
      ]
    },
    {
      "cell_type": "markdown",
      "metadata": {
        "id": "ldxK-HgF7Cyr"
      },
      "source": [
        "## Example Json Item"
      ]
    },
    {
      "cell_type": "code",
      "execution_count": null,
      "metadata": {
        "id": "aMzRsxzl7Cyr"
      },
      "outputs": [],
      "source": [
        "#{'review_id': 'rw1133942',\n",
        "#'reviewer': 'OriginalMovieBuff21',\n",
        "#'movie': 'Kill Bill: Vol. 2 (2004)',\n",
        "#'rating': '8',\n",
        "#'review_summary': 'Good follow up that answers all the questions',\n",
        "#'review_date': '24 July 2005',\n",
        "#'spoiler_tag': 0,\n",
        "#'review_detail': \"After seeing Tarantino's Kill Bill Vol: 1, I got to watch Vol. 2 the next day after seeing it. I liked the first one but didn't really know everything that was going on, but just knowing that she set off the kill 5 individuals who left her dead at her wedding. So I saw Kill Bill: Vol 2 and liked it highly. The movie answered all of my questions to the previous one and had much of a better story and was not unrealistic that much. We finally get to see Bill, who is played by David Carradine who had a really good role in the movie. There is a great conclusion to the movie and had a very good story, along with likable characters, my favorite being Budd. Overall, good movie that answers tons of questions. I recommend Kill Bill Vol. 2.Hedeen's Outlook: 8/10 *** B\",\n",
        "#'helpful': ['0', '1']}"
      ]
    },
    {
      "cell_type": "markdown",
      "metadata": {
        "id": "h1y1Frmu7Cyr"
      },
      "source": [
        "## Data Reading and Saving"
      ]
    },
    {
      "cell_type": "code",
      "execution_count": 9,
      "metadata": {
        "id": "DCsGbkVR7Cys"
      },
      "outputs": [],
      "source": [
        "movies = set()\n",
        "reviewers = dict()"
      ]
    },
    {
      "cell_type": "code",
      "execution_count": 10,
      "metadata": {
        "id": "JuAwckJS7Cys"
      },
      "outputs": [],
      "source": [
        "def read_json(filename):\n",
        "    \"\"\"\n",
        "    Reads json file, adds movie to a set and reviewer to dict for later data preproccessing\n",
        "\n",
        "    args:\n",
        "        filename<str>: json filename\n",
        "\n",
        "    returns:\n",
        "        None\n",
        "    \"\"\"\n",
        "\n",
        "    file = open(filename)\n",
        "\n",
        "    data = json.load(file)\n",
        "\n",
        "    for item in data:\n",
        "        movies.add(item[\"movie\"])\n",
        "\n",
        "        if item[\"reviewer\"] in reviewers:\n",
        "            reviewers[item[\"reviewer\"]] = reviewers[item[\"reviewer\"]] + 1\n",
        "        else:\n",
        "            reviewers[item[\"reviewer\"]] = 1\n",
        "\n",
        "    file.close()\n"
      ]
    },
    {
      "cell_type": "code",
      "execution_count": 11,
      "metadata": {
        "colab": {
          "base_uri": "https://localhost:8080/"
        },
        "id": "ISMYATG77Cys",
        "outputId": "f2cc17df-787a-45a2-8426-731f467560c4"
      },
      "outputs": [
        {
          "name": "stdout",
          "output_type": "stream",
          "text": [
            "Reviewer count before filtering is 52651\n",
            "Movie count before filtering is 29192\n"
          ]
        }
      ],
      "source": [
        "read_json(data_file)\n",
        "\n",
        "print(f\"Reviewer count before filtering is {len(reviewers)}\")\n",
        "print(f\"Movie count before filtering is {len(movies)}\")"
      ]
    },
    {
      "cell_type": "markdown",
      "metadata": {
        "id": "aeFBFd1s7Cys"
      },
      "source": [
        "## Data Cleaning"
      ]
    },
    {
      "cell_type": "code",
      "execution_count": 12,
      "metadata": {
        "id": "AkMMDAwX7Cys"
      },
      "outputs": [],
      "source": [
        "def filter_data(movie_data, reviewers_data):\n",
        "    \"\"\"\n",
        "    Gets movie and reviewers' data and filters them with min. 20 movie input by reviewer is mandotory.\n",
        "\n",
        "    args:\n",
        "        movie_data<set>: set of movie names'\n",
        "        reviewers_Data<dict>: dict of reviewer names'\n",
        "\n",
        "    returns:\n",
        "        movie_data<list>: list of filtered movie names'\n",
        "        reviewers_Data<list>: list of filtered reviewer names'\n",
        "    \"\"\"\n",
        "\n",
        "    to_be_deleted = list()\n",
        "\n",
        "    for r in reviewers_data.keys():\n",
        "        if reviewers_data[r] < 20:\n",
        "            to_be_deleted.append(r)\n",
        "\n",
        "    for r in to_be_deleted:\n",
        "        del reviewers_data[r]\n",
        "\n",
        "    reviewers_data = [i for i in reviewers_data.keys()]\n",
        "    movie_data = list(movie_data)\n",
        "\n",
        "    return movie_data, reviewers_data\n"
      ]
    },
    {
      "cell_type": "code",
      "execution_count": 13,
      "metadata": {
        "colab": {
          "base_uri": "https://localhost:8080/"
        },
        "id": "3MVHVWaz7Cys",
        "outputId": "d801375d-d4be-4662-9d6c-ad05c754b034"
      },
      "outputs": [
        {
          "name": "stdout",
          "output_type": "stream",
          "text": [
            "Reviewer count after filtering is 388\n",
            "Movie count after filtering is 29192\n"
          ]
        }
      ],
      "source": [
        "movies, reviewers = filter_data(movies, reviewers)\n",
        "\n",
        "print(f\"Reviewer count after filtering is {len(reviewers)}\")\n",
        "print(f\"Movie count after filtering is {len(movies)}\")"
      ]
    },
    {
      "cell_type": "markdown",
      "metadata": {
        "id": "e5zfMiYa7Cys"
      },
      "source": [
        "# The Algorithm: Item-based Filtering Enhanced by SVD"
      ]
    },
    {
      "cell_type": "markdown",
      "metadata": {
        "id": "hwZKVGNN7Cyt"
      },
      "source": [
        "## 1. The original user-item matrix, denoted as $R$, represents the ratings of $m$ users on $n$ items. It is structured as follows:\n",
        "\n",
        "- **Rows:** Each row corresponds to a user.\n",
        "- **Columns:** Each column corresponds to an item.\n",
        "- **Elements:** The element $r_{ij}$ represents the rating given by user $i$ on item $j$.\n",
        "\n",
        "The matrix $R$ has dimensions $m \\times n$, where:\n",
        "- $m$ is the number of users.\n",
        "- $n$ is the number of items. (movies)"
      ]
    },
    {
      "cell_type": "code",
      "execution_count": 14,
      "metadata": {
        "id": "aNrJEAUY7Cyt"
      },
      "outputs": [],
      "source": [
        "\n",
        "def insert_matrix_data(filename):\n",
        "    \"\"\"\n",
        "    Reads json file, inserts movie rate if the data is in the filtered subset and fills matrix R\n",
        "\n",
        "    args:\n",
        "        filename<str>: json filename\n",
        "\n",
        "    returns:\n",
        "        matrix<NDArray>: user-item matrix R\n",
        "    \"\"\"\n",
        "\n",
        "    matrix = np.zeros((len(reviewers), len(movies)))\n",
        "\n",
        "    file = open(filename)\n",
        "\n",
        "    data = json.load(file)\n",
        "\n",
        "    for item in data:\n",
        "\n",
        "        if item[\"reviewer\"] in reviewers:\n",
        "\n",
        "            try:\n",
        "                rating = float(item[\"rating\"])\n",
        "                matrix[reviewers.index(item[\"reviewer\"]), movies.index(item[\"movie\"])] = rating/2\n",
        "\n",
        "            except TypeError:\n",
        "                pass\n",
        "\n",
        "    file.close()\n",
        "\n",
        "    return matrix\n"
      ]
    },
    {
      "cell_type": "code",
      "execution_count": 15,
      "metadata": {
        "colab": {
          "base_uri": "https://localhost:8080/"
        },
        "id": "aXy15g-P7Cyt",
        "outputId": "adc13519-b2df-46b3-d6ea-8a0e1d4dfefb"
      },
      "outputs": [
        {
          "name": "stdout",
          "output_type": "stream",
          "text": [
            "4x4 submatrix of R\n",
            "[[0. 0. 0. 0.]\n",
            " [0. 0. 0. 0.]\n",
            " [0. 0. 0. 0.]\n",
            " [0. 0. 0. 0.]]\n"
          ]
        }
      ],
      "source": [
        "R = insert_matrix_data(data_file)\n",
        "\n",
        "example_matrix = R[:4, :4]\n",
        "\n",
        "print(\"4x4 submatrix of R\")\n",
        "print(example_matrix)"
      ]
    },
    {
      "cell_type": "markdown",
      "metadata": {
        "id": "ZHW24Bqn7Cyt"
      },
      "source": [
        "#### Dropping columns with all 0's"
      ]
    },
    {
      "cell_type": "code",
      "execution_count": 16,
      "metadata": {
        "colab": {
          "base_uri": "https://localhost:8080/"
        },
        "id": "EvUpvLim7Cyt",
        "outputId": "2d594e4d-2aa6-4602-8655-d1c9078186db"
      },
      "outputs": [
        {
          "name": "stdout",
          "output_type": "stream",
          "text": [
            "Column count after removal of zero columns: 11321\n"
          ]
        }
      ],
      "source": [
        "zero_columns = np.where(~R.any(axis=0))[0]\n",
        "\n",
        "R = np.delete(R, zero_columns, axis=1)\n",
        "\n",
        "zero_indexes = zero_columns.tolist()\n",
        "\n",
        "movies = [movie for i, movie in enumerate(movies) if i not in zero_columns]\n",
        "\n",
        "print(\"Column count after removal of zero columns:\", R.shape[1])"
      ]
    },
    {
      "cell_type": "markdown",
      "metadata": {
        "id": "7EqXMxf-7Cyt"
      },
      "source": [
        "## 2. Preprocess user-item matrix $R$ in order to eliminate all missing data values."
      ]
    },
    {
      "cell_type": "markdown",
      "metadata": {
        "id": "Hvx6GMqS7Cyt"
      },
      "source": [
        "### (a) Compute the average of all rows, $r_{i}$, where $i = 1, 2,..., m$ and the average of all columns, $r_{j}$, where $j = 1, 2,..., n$ from the user-item matrix, $R$."
      ]
    },
    {
      "cell_type": "code",
      "execution_count": 17,
      "metadata": {
        "colab": {
          "base_uri": "https://localhost:8080/"
        },
        "id": "CVelxsFi7Cyt",
        "outputId": "25a58aaa-5b08-4d04-cd19-1ec01a9d2976"
      },
      "outputs": [
        {
          "name": "stdout",
          "output_type": "stream",
          "text": [
            "Column Averages: 0.007731958762886598, 0.010309278350515464, 0.00902061855670103...\n",
            "Row Averages: 0.009230633336277714, 0.009318964755763624, 0.01316138150340076...\n"
          ]
        }
      ],
      "source": [
        "column_averages = np.mean(R, axis=0)\n",
        "\n",
        "row_averages = np.mean(R, axis=1)\n",
        "\n",
        "print(f\"Column Averages: {column_averages[0]}, {column_averages[1]}, {column_averages[2]}...\")\n",
        "print(f\"Row Averages: {row_averages[0]}, {row_averages[1]}, {row_averages[2]}...\")"
      ]
    },
    {
      "cell_type": "markdown",
      "metadata": {
        "id": "hJzO_FEr7Cyu"
      },
      "source": [
        "### (b) Replace all matrix entries that have no values, denoted by ⊥, with the corresponding column average $r_j$, we obtain a new filled-in matrix, $R_{\\text{filled-in}}$"
      ]
    },
    {
      "cell_type": "code",
      "execution_count": 18,
      "metadata": {
        "colab": {
          "base_uri": "https://localhost:8080/"
        },
        "id": "HMlz8jpq7Cyu",
        "outputId": "f60dfbee-b96e-4be8-b3f7-d0d5a25b5c32"
      },
      "outputs": [
        {
          "name": "stdout",
          "output_type": "stream",
          "text": [
            "4x4 submatrix of R filled-in\n",
            "[[0.00773196 0.01030928 0.00902062 0.0257732 ]\n",
            " [0.00773196 0.01030928 0.00902062 0.0257732 ]\n",
            " [0.00773196 0.01030928 0.00902062 0.0257732 ]\n",
            " [0.00773196 0.01030928 0.00902062 0.0257732 ]]\n"
          ]
        }
      ],
      "source": [
        "for col_index in range(R.shape[1]):\n",
        "    column = R[:, col_index]\n",
        "    zero_indices = np.where(column == 0)[0]\n",
        "\n",
        "    if zero_indices.size > 0:\n",
        "        R[zero_indices, col_index] = column_averages[col_index]\n",
        "\n",
        "R_filled = R\n",
        "\n",
        "example_matrix = R_filled[:4, :4]\n",
        "\n",
        "print(\"4x4 submatrix of R filled-in\")\n",
        "print(example_matrix)"
      ]
    },
    {
      "cell_type": "markdown",
      "metadata": {
        "id": "mMKliGAY7Cyu"
      },
      "source": [
        "### (c) Subtract the corresponding row average, $r_i$, from all the slots of the new ﬁlled-in matrix, $R_{filled−in}$, and obtain the normalized matrix $R_{norm}$.\n"
      ]
    },
    {
      "cell_type": "code",
      "execution_count": 19,
      "metadata": {
        "colab": {
          "base_uri": "https://localhost:8080/"
        },
        "id": "s8Sc9qH17Cyu",
        "outputId": "7cad967a-32e2-415d-f5fb-191eeeea7ac5"
      },
      "outputs": [
        {
          "name": "stdout",
          "output_type": "stream",
          "text": [
            "4x4 submatrix of R norm\n",
            "[[-0.00149867  0.00107865 -0.00021001  0.01654256]\n",
            " [-0.00158701  0.00099031 -0.00029835  0.01645423]\n",
            " [-0.00542942 -0.0028521  -0.00414076  0.01261181]\n",
            " [-0.00984599 -0.00726867 -0.00855733  0.00819524]]\n"
          ]
        }
      ],
      "source": [
        "row_averages_reshaped = row_averages[:, np.newaxis]\n",
        "\n",
        "R_norm = R_filled - row_averages_reshaped\n",
        "\n",
        "example_matrix = R_norm[:4, :4]\n",
        "\n",
        "print(\"4x4 submatrix of R norm\")\n",
        "print(example_matrix)"
      ]
    },
    {
      "cell_type": "markdown",
      "metadata": {
        "id": "uEKKRgbE7Cyu"
      },
      "source": [
        "### 3. Compute the Singular Value Decomposition (SVD) of $R_{\\text{norm}}$ and obtain matrices $U$, $S$, and $V$, of size $m \\times m$, $m \\times n$, and $n \\times n$, respectively. Their relationship is expressed by the equation: $ R_{\\text{norm}} = U \\cdot S \\cdot V^T$"
      ]
    },
    {
      "cell_type": "code",
      "execution_count": 20,
      "metadata": {
        "id": "wN8Wmr6W7Cyu"
      },
      "outputs": [],
      "source": [
        "def pad_matrix(matrix, target_columns):\n",
        "    \"\"\"\n",
        "    Adds zero columns to the matrix to make it accurate dimensions\n",
        "\n",
        "    args:\n",
        "        matrix<np.Array>: matrix to be padded\n",
        "        target_columns<int>: target column count\n",
        "\n",
        "    returns:\n",
        "        matrix<np.Array>: padded matrix\n",
        "    \"\"\"\n",
        "\n",
        "    return np.pad(matrix, ((0, 0), (0, max(0, target_columns - matrix.shape[1]))), 'constant')\n",
        "\n",
        "def power_iteration_gpu(A, tol=1e-6, max_iter=100):\n",
        "    \"\"\"\n",
        "    Finds the eigenvalue and corresponding eigenvector of a matrix using power iteration method\n",
        "\n",
        "    args:\n",
        "        A<np.Array>: matrix to find eigenvalue and eigenvector\n",
        "        tol<float>: tolerance for convergence\n",
        "        max_iter<int>: maximum iteration count\n",
        "\n",
        "    returns:\n",
        "        eigenvalue<float>: found eigenvalue\n",
        "        x<cp.Array>: found eigenvector\n",
        "    \"\"\"\n",
        "\n",
        "    n = A.shape[0]\n",
        "    x = cp.random.rand(n).astype(cp.float32)\n",
        "    x /= cp.linalg.norm(x)\n",
        "\n",
        "    A_gpu = cp.asarray(A)\n",
        "\n",
        "    for _ in range(max_iter):\n",
        "        x_new = cp.dot(A_gpu, x)\n",
        "        eigenvalue = cp.dot(x_new, x)\n",
        "        x_new /= cp.linalg.norm(x_new)\n",
        "\n",
        "        if cp.linalg.norm(x - x_new) < tol:\n",
        "            break\n",
        "\n",
        "        x = x_new\n",
        "\n",
        "    return eigenvalue.item(), cp.asnumpy(x)\n",
        "\n",
        "def deflate_gpu(A, eigenvalue, eigenvector):\n",
        "    \"\"\"\n",
        "    Deflates the matrix with the given eigenvalue and eigenvector\n",
        "\n",
        "    args:\n",
        "        A<np.Array>: matrix to be deflated\n",
        "        eigenvalue<float>: eigenvalue to deflate\n",
        "        eigenvector<cp.Array>: eigenvector to deflate\n",
        "\n",
        "    returns:\n",
        "        A<cp.Array>: deflated matrix\n",
        "    \"\"\"\n",
        "        \n",
        "    n = A.shape[0]\n",
        "    v = cp.asarray(eigenvector.reshape(-1, 1))\n",
        "    A = A - eigenvalue * cp.dot(v, v.T)\n",
        "    return A\n",
        "\n",
        "def find_eigenpairs_gpu(A, num_eigenvectors=None):\n",
        "    \"\"\"\n",
        "    Finds the eigenvalues and corresponding eigenvectors of a matrix using power iteration method with defaltion technique (GPU version)\n",
        "\n",
        "    args:\n",
        "        A<cp.Array>: matrix to find eigenvalues and eigenvectors\n",
        "        num_eigenvectors<int>: number of eigenvectors to find\n",
        "\n",
        "    returns:\n",
        "        eigenvalues<list>: found eigenvalues\n",
        "        eigenvectors<list>: found eigenvectors\n",
        "    \"\"\"\n",
        "\n",
        "    n = A.shape[0]\n",
        "    if num_eigenvectors is None:\n",
        "        num_eigenvectors = n\n",
        "\n",
        "    eigenvalues = list()\n",
        "    eigenvectors = list()\n",
        "\n",
        "    for _ in range(num_eigenvectors):\n",
        "        if _ % 100 == 0:\n",
        "            print(f\"Iteration {_}\")\n",
        "        eigenvalue, eigenvector = power_iteration_gpu(A)\n",
        "        eigenvalues.append(eigenvalue)\n",
        "        eigenvectors.append(eigenvector)\n",
        "\n",
        "        A = deflate_gpu(A, eigenvalue, eigenvector)\n",
        "\n",
        "    return eigenvalues, eigenvectors\n",
        "\n",
        "def svd(A):\n",
        "    \"\"\"\n",
        "    Computes the Singular Value Decomposition of a matrix using power iteration method with defaltion technique (GPU version)\n",
        "\n",
        "    args:\n",
        "        A<np.Array>: matrix to compute SVD\n",
        "\n",
        "    returns:\n",
        "        U<np.Array>: left singular vectors\n",
        "        S<np.Array>: singular values\n",
        "        V<np.Array>: right singular vectors\n",
        "    \"\"\"\n",
        "\n",
        "    m, n = A.shape\n",
        "\n",
        "    A_cp = cp.asarray(A)\n",
        "\n",
        "    eigenvalues, eigenvectors = find_eigenpairs_gpu(cp.dot(A_cp.T, A_cp))\n",
        "\n",
        "    singular_values = np.sqrt(np.abs(eigenvalues))\n",
        "    singular_values_sorted_indices = np.argsort(singular_values)[::-1]\n",
        "    singular_values = singular_values[singular_values_sorted_indices]\n",
        "\n",
        "    # V\n",
        "    V = np.array(eigenvectors)\n",
        "    V = V[:, singular_values_sorted_indices]\n",
        "\n",
        "    # U\n",
        "    eigenvalues1, eigenvectors1 = find_eigenpairs_gpu(cp.dot(A_cp, A_cp.T))\n",
        "\n",
        "    singular_values1 = np.sqrt(np.abs(eigenvalues1))\n",
        "    singular_values_sorted_indices1 = np.argsort(singular_values1)[::-1]\n",
        "    singular_values1 = singular_values1[singular_values_sorted_indices1]\n",
        "\n",
        "    U = np.array(eigenvectors1)\n",
        "    U = U[:, singular_values_sorted_indices1]\n",
        "\n",
        "    S = np.zeros((m, n))\n",
        "    S = np.diag(singular_values[:m])\n",
        "    S = pad_matrix(S, max(m, n))\n",
        "\n",
        "    return U, S, V.T\n"
      ]
    },
    {
      "cell_type": "code",
      "execution_count": 22,
      "metadata": {
        "colab": {
          "base_uri": "https://localhost:8080/"
        },
        "id": "_dzy-Lw87Cyu",
        "outputId": "118970b8-e6d6-4a9f-b5d8-1897cdfe613e"
      },
      "outputs": [
        {
          "name": "stdout",
          "output_type": "stream",
          "text": [
            "Iteration 0\n",
            "Iteration 100\n",
            "Iteration 200\n",
            "Iteration 300\n",
            "Iteration 400\n",
            "Iteration 500\n",
            "Iteration 600\n",
            "Iteration 700\n",
            "Iteration 800\n",
            "Iteration 900\n",
            "Iteration 1000\n",
            "Iteration 1100\n",
            "Iteration 1200\n",
            "Iteration 1300\n",
            "Iteration 1400\n",
            "Iteration 1500\n",
            "Iteration 1600\n",
            "Iteration 1700\n",
            "Iteration 1800\n",
            "Iteration 1900\n",
            "Iteration 2000\n",
            "Iteration 2100\n",
            "Iteration 2200\n",
            "Iteration 2300\n",
            "Iteration 2400\n",
            "Iteration 2500\n",
            "Iteration 2600\n",
            "Iteration 2700\n",
            "Iteration 2800\n",
            "Iteration 2900\n",
            "Iteration 3000\n",
            "Iteration 3100\n",
            "Iteration 3200\n",
            "Iteration 3300\n",
            "Iteration 3400\n",
            "Iteration 3500\n",
            "Iteration 3600\n",
            "Iteration 3700\n",
            "Iteration 3800\n",
            "Iteration 3900\n",
            "Iteration 4000\n",
            "Iteration 4100\n",
            "Iteration 4200\n",
            "Iteration 4300\n",
            "Iteration 4400\n",
            "Iteration 4500\n",
            "Iteration 4600\n",
            "Iteration 4700\n",
            "Iteration 4800\n",
            "Iteration 4900\n",
            "Iteration 5000\n",
            "Iteration 5100\n",
            "Iteration 5200\n",
            "Iteration 5300\n",
            "Iteration 5400\n",
            "Iteration 5500\n",
            "Iteration 5600\n",
            "Iteration 5700\n",
            "Iteration 5800\n",
            "Iteration 5900\n",
            "Iteration 6000\n",
            "Iteration 6100\n",
            "Iteration 6200\n",
            "Iteration 6300\n",
            "Iteration 6400\n",
            "Iteration 6500\n",
            "Iteration 6600\n",
            "Iteration 6700\n",
            "Iteration 6800\n",
            "Iteration 6900\n",
            "Iteration 7000\n",
            "Iteration 7100\n",
            "Iteration 7200\n",
            "Iteration 7300\n",
            "Iteration 7400\n",
            "Iteration 7500\n",
            "Iteration 7600\n",
            "Iteration 7700\n",
            "Iteration 7800\n",
            "Iteration 7900\n",
            "Iteration 8000\n",
            "Iteration 8100\n",
            "Iteration 8200\n",
            "Iteration 8300\n",
            "Iteration 8400\n",
            "Iteration 8500\n",
            "Iteration 8600\n",
            "Iteration 8700\n",
            "Iteration 8800\n",
            "Iteration 8900\n",
            "Iteration 9000\n",
            "Iteration 9100\n",
            "Iteration 9200\n",
            "Iteration 9300\n",
            "Iteration 9400\n",
            "Iteration 9500\n",
            "Iteration 9600\n",
            "Iteration 9700\n",
            "Iteration 9800\n",
            "Iteration 9900\n",
            "Iteration 10000\n",
            "Iteration 10100\n",
            "Iteration 10200\n",
            "Iteration 10300\n",
            "Iteration 10400\n",
            "Iteration 10500\n",
            "Iteration 10600\n",
            "Iteration 10700\n",
            "Iteration 10800\n",
            "Iteration 10900\n",
            "Iteration 11000\n",
            "Iteration 11100\n",
            "Iteration 11200\n",
            "Iteration 11300\n",
            "Iteration 0\n",
            "Iteration 100\n",
            "Iteration 200\n",
            "Iteration 300\n",
            "U matrix:\n",
            "[[ 0.05650343  0.03357908  0.04192438  0.02725457]\n",
            " [ 0.01533772  0.00929727  0.01195812  0.00312795]\n",
            " [ 0.00303424 -0.01056046  0.00605961  0.00811569]\n",
            " [ 0.01706741  0.01667001  0.00935013  0.01608297]]\n",
            "Singular values (Sigma):\n",
            "[[126.6974342    0.           0.           0.        ]\n",
            " [  0.          94.60027278   0.           0.        ]\n",
            " [  0.           0.          77.1079357    0.        ]\n",
            " [  0.           0.           0.          73.61734233]]\n",
            "V transpose matrix:\n",
            "[[-0.00163111  0.00139057  0.00138131  0.00146713]\n",
            " [-0.00107442  0.00162086  0.00085752  0.00105692]\n",
            " [ 0.00402578  0.00633402 -0.00831943 -0.03481883]\n",
            " [ 0.01202237  0.01094652 -0.01014202 -0.04061606]]\n"
          ]
        }
      ],
      "source": [
        "U, S, VT = svd(R_norm)\n",
        "\n",
        "print(\"U matrix:\")\n",
        "print(U[:4, :4])\n",
        "print(\"Singular values (Sigma):\")\n",
        "print(S[:4, :4])\n",
        "print(\"V transpose matrix:\")\n",
        "print(VT[:4, :4])\n"
      ]
    },
    {
      "cell_type": "code",
      "execution_count": 23,
      "metadata": {
        "colab": {
          "base_uri": "https://localhost:8080/"
        },
        "id": "XXNWjPOlF7a2",
        "outputId": "71a19433-a82c-4289-d8f4-be5312e301c7"
      },
      "outputs": [
        {
          "name": "stdout",
          "output_type": "stream",
          "text": [
            "Shape of U:  (388, 388)\n",
            "Shape of S:  (388, 11321)\n",
            "Shape of VT: (11321, 11321)\n"
          ]
        }
      ],
      "source": [
        "print(\"Shape of U: \", U.shape)\n",
        "print(\"Shape of S: \", S.shape)\n",
        "print(\"Shape of VT:\", VT.shape)"
      ]
    },
    {
      "cell_type": "code",
      "execution_count": 24,
      "metadata": {
        "colab": {
          "base_uri": "https://localhost:8080/"
        },
        "id": "0UpJfNLd7Cyv",
        "outputId": "980365be-d0c2-4152-ba3b-705c95bbb9e6"
      },
      "outputs": [
        {
          "name": "stdout",
          "output_type": "stream",
          "text": [
            "[[-0.00149867  0.00107865 -0.00021001  0.01654256]\n",
            " [-0.00158701  0.00099031 -0.00029835  0.01645423]\n",
            " [-0.00542942 -0.0028521  -0.00414076  0.01261181]\n",
            " [-0.00984599 -0.00726867 -0.00855733  0.00819524]]\n"
          ]
        }
      ],
      "source": [
        "print(R_norm[:4, :4])"
      ]
    },
    {
      "cell_type": "markdown",
      "metadata": {
        "id": "joVTqmHi7Cyv"
      },
      "source": [
        "### 4. Perform the dimensionality reduction step by keeping only $k$ diagonal entries from matrix $S$ to obtain a $k \\times k$ matrix, $S_k$. Similarly, matrices $U_k$ and $V_k$ of size $m \\times k$ and $k \\times n$ are generated. The \"reduced\" user-item matrix, $R_{\\text {red }}$, is obtained by $R_{r e d}=U_k \\cdot S_k \\cdot V_k^T$, while $r r_{i j}$ denotes the rating by user $u_i$ on item $i_j$ as included in this reduced matrix."
      ]
    },
    {
      "cell_type": "code",
      "execution_count": 25,
      "metadata": {
        "id": "aMxOiWvE7Cyv"
      },
      "outputs": [],
      "source": [
        "def dim_reduction_U(matrix, k):\n",
        "    \"\"\"\n",
        "    Reduces the dimensions of the matrix U to k\n",
        "\n",
        "    args:\n",
        "        matrix<np.Array>: matrix to be reduced\n",
        "        k<int>: target column count\n",
        "\n",
        "    returns:\n",
        "        matrix<np.Array>: reduced matrix\n",
        "    \"\"\"\n",
        "\n",
        "    return matrix[:matrix.shape[0], :k]\n",
        "\n",
        "def dim_reduction_S(matrix, k):\n",
        "    \"\"\"\n",
        "    Reduces the dimensions of the matrix S to k\n",
        "\n",
        "    args:\n",
        "        matrix<np.Array>: matrix to be reduced\n",
        "        k<int>: target count\n",
        "\n",
        "    returns:\n",
        "        matrix<np.Array>: reduced matrix\n",
        "    \"\"\"\n",
        "\n",
        "    return matrix[:k, :k]\n",
        "\n",
        "def dim_reduction_V(matrix, k):\n",
        "    \"\"\"\n",
        "    Reduces the dimensions of the matrix V to k\n",
        "\n",
        "    args:\n",
        "        matrix<np.Array>: matrix to be reduced\n",
        "        k<int>: target row count\n",
        "\n",
        "    returns:\n",
        "        matrix<np.Array>: reduced matrix\n",
        "    \"\"\"\n",
        "\n",
        "    return matrix[:k, :matrix.shape[1]]\n"
      ]
    },
    {
      "cell_type": "markdown",
      "metadata": {
        "id": "XO50xP5C7Cyv"
      },
      "source": [
        "### $R_{red}$ (for $k=6$)\n",
        "\n",
        "Compute the square root of the diagonal matrix $ \\sqrt{S_k} $. Calculate two matrix products: $ U_k \\cdot \\sqrt{S_k}^T $, which represents $ m $ users, and $ \\sqrt{S_k} \\cdot V^T $, which represents $ n $ items in the $ k $-dimensional feature space.\n",
        "   \n",
        "We are particularly interested in the latter matrix, of size $ k \\times n $, whose entries represent the \"meta\" ratings provided by the $ k $ pseudo-users on the $ n $ items. A \"meta\" rating assigned by pseudo-user $ u_i $ on item $ i_j $ is denoted by $ m_{rij} $.\n"
      ]
    },
    {
      "cell_type": "code",
      "execution_count": 26,
      "metadata": {
        "colab": {
          "base_uri": "https://localhost:8080/"
        },
        "id": "T3K3sngK7Cyv",
        "outputId": "8c79a7ed-94db-4db3-e804-e2e786ca7933"
      },
      "outputs": [
        {
          "name": "stdout",
          "output_type": "stream",
          "text": [
            "Shape of U_k:  (388, 6)\n",
            "Shape of S_k:  (6, 6)\n",
            "Shape of V_kT: (6, 11321)\n",
            "4x4 submatrix of R reduced ((388, 11321))\n",
            "[[-0.00645002 -0.00097108 -0.03920209  0.02753925]\n",
            " [-0.00218044 -0.00057592 -0.0021465   0.01638203]\n",
            " [-0.00093173 -0.00132352 -0.04111283 -0.05430342]\n",
            " [-0.00039613  0.00113673 -0.03357347 -0.01875825]]\n"
          ]
        }
      ],
      "source": [
        "k = 6\n",
        "\n",
        "U_k = dim_reduction_U(U, k)\n",
        "S_k = dim_reduction_S(S, k)\n",
        "V_kT = dim_reduction_V(np.transpose(VT), k)\n",
        "\n",
        "print(\"Shape of U_k: \", U_k.shape)\n",
        "print(\"Shape of S_k: \", S_k.shape)\n",
        "print(\"Shape of V_kT:\", V_kT.shape)\n",
        "\n",
        "R_reduced = U_k @ S_k @ V_kT\n",
        "\n",
        "print(f\"4x4 submatrix of R reduced ({R_reduced.shape})\")\n",
        "print(R_reduced[:4, :4])"
      ]
    },
    {
      "cell_type": "code",
      "execution_count": 27,
      "metadata": {
        "colab": {
          "base_uri": "https://localhost:8080/"
        },
        "id": "N09GdzIu7Cyv",
        "outputId": "46e35ad3-4811-4b2e-f140-986c343688ac"
      },
      "outputs": [
        {
          "name": "stdout",
          "output_type": "stream",
          "text": [
            "Shape of m_users:  (388, 6)\n",
            "Shape of n_items:  (6, 11321)\n"
          ]
        }
      ],
      "source": [
        "m_users = U_k @ (np.sqrt(S_k)).T\n",
        "n_items = np.sqrt(S_k) @ V_kT\n",
        "\n",
        "print(\"Shape of m_users: \", m_users.shape)\n",
        "print(\"Shape of n_items: \", n_items.shape)"
      ]
    },
    {
      "cell_type": "markdown",
      "metadata": {
        "id": "Iyr-NDVUujZf"
      },
      "source": [
        "### 6. Proceed with Neighborhood Formation which can be broken into two substeps:\n",
        "(a) Calculate the similarity between items $i_j$ and $i_f$ by computing their Adjusted Cosine Similarity as follows:\n",
        "\n",
        "\\begin{aligned}\n",
        "& \\operatorname{sim}_{j f}=\\text { adjcorr }_{j f}=  \\frac{\\sum_{i=1}^k m r_{i j} \\cdot m r_{i f}}{\\sqrt{\\sum_{i=1}^k m r_{i j}{ }^2 \\sum_{i=1}^k m r_{i f}{ }^2}} \\\\\n",
        "&\n",
        "\\end{aligned}\n",
        "\n",
        "where k is the number of pseudo-users, selected when performing the dimensionality reduction step. We have to note a change between the Adjusted Cosine Similarity equation utilized in plain Item-based Filtering and here. In plain Item-based Filtering the difference in rating scale between distinct users was offset by subtracting the corresponding user average from each co-rated pair of items. In SVD-enhanced Item-based Filtering, that difference in rating scale was offset during the normalization of the original user-item matrix which yielded matrix $R_{norm}$.\n",
        "\n",
        "(b) Based on the results from the Adjusted Cosine Similarity calculations for pairs of items including the active item and a random item, isolate the set of items which appear to be the most similar to the active item."
      ]
    },
    {
      "cell_type": "code",
      "execution_count": 28,
      "metadata": {
        "id": "S8jhacy-7Cyw"
      },
      "outputs": [],
      "source": [
        "def adjusted_cosine_similarity_matrix(matrix):\n",
        "    \"\"\"\n",
        "    Computes the adjusted cosine similarity matrix of a matrix\n",
        "\n",
        "    args:\n",
        "        matrix<np.Array>: matrix to compute similarity matrix\n",
        "\n",
        "    returns:\n",
        "        similarities<np.Array>: similarity matrix\n",
        "    \"\"\"\n",
        "\n",
        "    num_columns = matrix.shape[1]\n",
        "    similarities = np.zeros((num_columns, num_columns))\n",
        "\n",
        "    for i in range(num_columns):\n",
        "\n",
        "        for j in range(i, num_columns):\n",
        "            similarity = adjusted_cosine_similarity(matrix[:, i], matrix[:, j])\n",
        "            similarities[i, j] = similarity\n",
        "            similarities[j, i] = similarity\n",
        "\n",
        "    return similarities\n",
        "\n",
        "def adjusted_cosine_similarity(item_i_ratings, item_j_ratings):\n",
        "    \"\"\"\n",
        "    Computes the adjusted cosine similarity of two items\n",
        "\n",
        "    args:\n",
        "        item_i_ratings<np.Array>: ratings of item i\n",
        "        item_j_ratings<np.Array>: ratings of item j\n",
        "\n",
        "    returns:\n",
        "        similarity<float>: similarity of item i and item j\n",
        "    \"\"\"\n",
        "\n",
        "    numerator = np.dot(item_i_ratings, item_j_ratings)\n",
        "\n",
        "    denominator = np.sqrt(np.dot(item_i_ratings, item_i_ratings) * np.dot(item_j_ratings, item_j_ratings))\n",
        "\n",
        "    if denominator == 0:\n",
        "        return 0\n",
        "\n",
        "    similarity = numerator / denominator\n",
        "\n",
        "    return similarity\n"
      ]
    },
    {
      "cell_type": "markdown",
      "metadata": {
        "id": "tqQsvmQkujZf"
      },
      "source": [
        "### 7. Conclude with Prediction Generation, achieved by the following weighted sum:\n",
        "\n",
        "\\begin{aligned}\n",
        "p r_{a j}=\\frac{\\sum_{k=1}^l \\operatorname{sim}_{j k} *\\left(r r_{a k}+\\overline{r_a}\\right)}{\\sum_{k=1}^l\\left|\\operatorname{sim}_{j k}\\right|}\n",
        "\\end{aligned}\n",
        "\n",
        "which calculates the prediction for user $u_a$ on item $i_j$. It is similar to the equation utilized by plain Item-based Filtering in that it bases its predictions on the ratings given by the active user, $u_a$, on the $l$ items selected as the most similar to active item $i_j$. Yet, it is different in that the user ratings are taken from the reduced user-item matrix, $R_{red}$. Also, we have to add the original user average, $\\overline{r_a}$, back since it was subtracted during the normalization step of the preprocessing."
      ]
    },
    {
      "cell_type": "code",
      "execution_count": 29,
      "metadata": {
        "id": "P-uTG4TqujZf"
      },
      "outputs": [],
      "source": [
        "def prediction_generation(matrix, similarities, active_user_index, active_item_index, l, user_average_ratings):\n",
        "    \"\"\"\n",
        "    Generates the prediction for the active user and item\n",
        "\n",
        "    args:\n",
        "        matrix<np.Array>: user-item matrix\n",
        "        similarities<np.Array>: similarity matrix\n",
        "        active_user_index<int>: index of the active user\n",
        "        active_item_index<int>: index of the active item\n",
        "        l<int>: number of recommendations\n",
        "        user_average_ratings<np.Array>: average ratings of users\n",
        "\n",
        "    returns:\n",
        "        prediction<float>: prediction for the active user and item\n",
        "        recommendations<list>: list of recommendations\n",
        "    \"\"\"\n",
        "\n",
        "    num_items = matrix.shape[1]\n",
        "    prediction = 0\n",
        "    similarity_sum = 0\n",
        "    recommendations = list()\n",
        "\n",
        "    for k in range(num_items):\n",
        "\n",
        "        if k != active_item_index:\n",
        "            similarity = similarities[active_item_index, k]\n",
        "\n",
        "            if similarity == 0:\n",
        "                continue\n",
        "\n",
        "            rating_ak = matrix[active_user_index, k]\n",
        "\n",
        "            prediction += similarity * (rating_ak - user_average_ratings[active_user_index])\n",
        "\n",
        "            similarity_sum += abs(similarity)\n",
        "\n",
        "            recommendations.append((k, similarity * (rating_ak - user_average_ratings[active_user_index])))\n",
        "\n",
        "    prediction += user_average_ratings[active_user_index]\n",
        "\n",
        "    if similarity_sum == 0:\n",
        "        return prediction, []\n",
        "\n",
        "    prediction /= similarity_sum\n",
        "\n",
        "    recommendations.sort(key=lambda x: x[1], reverse=True)\n",
        "\n",
        "    return prediction, recommendations[:l]\n"
      ]
    },
    {
      "cell_type": "markdown",
      "metadata": {
        "id": "U20lAZj2ujZf"
      },
      "source": [
        "## Example Usage"
      ]
    },
    {
      "cell_type": "code",
      "execution_count": 32,
      "metadata": {
        "colab": {
          "base_uri": "https://localhost:8080/"
        },
        "id": "-aYjtIksujZg",
        "outputId": "e64426e1-8882-4fa5-bb48-62538f96397a"
      },
      "outputs": [
        {
          "name": "stdout",
          "output_type": "stream",
          "text": [
            "Top 10 recommendations for user 0, based on The Godfather (1972):\n",
            "1. Jarhead (2005): 4.094573482577389\n",
            "2. Sleepers (1996): 3.8188288474254684\n",
            "3. Reservoir Dogs (1992): 3.7561175239424753\n",
            "4. Fargo (1996): 3.2756908155762083\n",
            "5. The Longest Yard (2005): 2.517346665094855\n",
            "6. Kill Bill: Vol. 1 (2003): 2.4678673601038743\n",
            "7. Shark Tale (2004): 2.3049305827483137\n",
            "8. Kill Bill: Vol. 2 (2004): 2.1736615396345123\n",
            "9. Blade Runner (1982): 1.8503647966363117\n",
            "10. The Blue Lagoon (1980): 1.5829688883955342\n",
            "-+--+--+--+--+--+--+--+--+--+--+--+--+--+--+--+--+--+--+--+-\n",
            "Top 10 recommendations for user 1, based on Top Gun (1986):\n",
            "1. Kung Fu Hustle (2004): 3.896115476119293\n",
            "2. Constantine (2005): 2.6901816298172605\n",
            "3. The Fly (1986): 2.369678460721588\n",
            "4. Junk (2000): 2.032490841710892\n",
            "5. The Amityville Horror (2005): 1.4857179843629564\n",
            "6. Godzilla and Mothra: The Battle for Earth (1992): 1.30008696841216\n",
            "7. Ultimate Spider-Man (2005 Video Game): 1.2119425136459374\n",
            "8. Evil Dead Trap (1988): 1.0430503045755486\n",
            "9. Speed (1994): 0.44379670150009365\n",
            "10. Yogen (2004): 0.3574499299918316\n",
            "-+--+--+--+--+--+--+--+--+--+--+--+--+--+--+--+--+--+--+--+-\n",
            "Top 10 recommendations for user 2, based on The Matrix (1999):\n",
            "1. Life Is Beautiful (1997): 3.508427618248308\n",
            "2. Good Bye Lenin! (2003): 2.5874177926133415\n",
            "3. The Sea Inside (I) (2004): 2.5190528572259763\n",
            "4. The Experiment (2001): 2.5118086512639968\n",
            "5. Ladies in Lavender (2004): 2.470436771973524\n",
            "6. Billy Elliot (2000): 2.4385597915821773\n",
            "7. A Very Long Engagement (2004): 2.428057791166946\n",
            "8. The Skeleton Key (2005): 2.3464507270203514\n",
            "9. Howl's Moving Castle (2004): 2.274509231134615\n",
            "10. Malena (2000): 2.266887342248114\n",
            "------------------------------------------------------------------------------------------\n",
            "Top 10 recommendations for user 3, based on Star Wars: Episode III - Revenge of the Sith (2005):\n",
            "1. The Body Snatcher (1945): 4.379404245318056\n",
            "2. High Plains Drifter (1973): 3.6086582382268206\n",
            "3. Fletch Lives (1989): 2.970677634706459\n",
            "4. Westworld (1973): 2.9248962025290393\n",
            "5. Nang Nak (1999): 2.893809360757759\n",
            "6. Neon Genesis Evangelion: Death & Rebirth (1997): 2.7551016671831\n",
            "7. Devil Doll (1964): 2.687283872996732\n",
            "8. Kill, Baby... Kill! (1966): 2.639440164862057\n",
            "9. House on Haunted Hill (1959): 2.5743303046150414\n",
            "10. Coogan's Bluff (1968): 2.444275347308982\n"
          ]
        }
      ],
      "source": [
        "# k = 6\n",
        "user_index1 = 1\n",
        "\n",
        "item_index1 = movies.index(\"The Godfather (1972)\")\n",
        "item_index2 = movies.index(\"Top Gun (1986)\")\n",
        "item_index3 = movies.index(\"The Matrix (1999)\")\n",
        "item_index4 = movies.index(\"Star Wars: Episode III - Revenge of the Sith (2005)\")\n",
        "\n",
        "n = 10\n",
        "\n",
        "s = adjusted_cosine_similarity_matrix(n_items)\n",
        "\n",
        "prediction1, top_recommendations1 = prediction_generation(R_norm, s, user_index1, item_index1, n, np.mean(R, axis=1))\n",
        "print(f\"Top {n} recommendations for user {user_index1}, based on {movies[item_index1]}:\")\n",
        "for i in range(n):\n",
        "    print(f\"{i+1}. {movies[top_recommendations1[i][0]]}: {top_recommendations1[i][1]}\")\n",
        "\n",
        "print(\"-+-\"*20)\n",
        "\n",
        "prediction2, top_recommendations2 = prediction_generation(R_norm, s, user_index1, item_index2, n, np.mean(R, axis=1))\n",
        "print(f\"Top {n} recommendations for user {user_index1}, based on {movies[item_index2]}:\")\n",
        "for i in range(n):\n",
        "    print(f\"{i+1}. {movies[top_recommendations2[i][0]]}: {top_recommendations2[i][1]}\")\n",
        "\n",
        "print(\"-+-\"*20)\n",
        "\n",
        "prediction3, top_recommendations3 = prediction_generation(R_norm, s, user_index1, item_index3, n, np.mean(R, axis=1))\n",
        "print(f\"Top {n} recommendations for user {user_index1}, based on {movies[item_index3]}:\")\n",
        "for i in range(n):\n",
        "    print(f\"{i+1}. {movies[top_recommendations3[i][0]]}: {top_recommendations3[i][1]}\")\n",
        "\n",
        "print(\"---\"*30)\n",
        "\n",
        "prediction4, top_recommendations4 = prediction_generation(R_norm, s, user_index1, item_index4, n, np.mean(R, axis=1))\n",
        "print(f\"Top {n} recommendations for user {user_index1}, based on {movies[item_index4]}:\")\n",
        "for i in range(n):\n",
        "    print(f\"{i+1}. {movies[top_recommendations4[i][0]]}: {top_recommendations4[i][1]}\")\n"
      ]
    },
    {
      "cell_type": "markdown",
      "metadata": {
        "id": "7hnH1TO8ujZg"
      },
      "source": [
        "## Analysis"
      ]
    },
    {
      "cell_type": "code",
      "execution_count": 33,
      "metadata": {
        "colab": {
          "base_uri": "https://localhost:8080/",
          "height": 1000
        },
        "id": "rVNOcPRuujZg",
        "outputId": "53cbbebd-b326-4e80-efb0-6e8873567c66"
      },
      "outputs": [
        {
          "data": {
            "image/png": "[encoded data removed]",
            "text/plain": [
              "<Figure size 1000x600 with 1 Axes>"
            ]
          },
          "metadata": {},
          "output_type": "display_data"
        },
        {
          "data": {
            "image/png": "[encoded data removed]",
            "text/plain": [
              "<Figure size 1000x600 with 1 Axes>"
            ]
          },
          "metadata": {},
          "output_type": "display_data"
        },
        {
          "data": {
            "image/png": "[encoded data removed]",
            "text/plain": [
              "<Figure size 1000x600 with 1 Axes>"
            ]
          },
          "metadata": {},
          "output_type": "display_data"
        }
      ],
      "source": [
        "\n",
        "user_index = 0\n",
        "item_index = movies.index(\"The Shawshank Redemption (1994)\")\n",
        "user_avarge_ratings = np.mean(R, axis=1)\n",
        "\n",
        "k_list = [2, 4, 6, 8, 10, 20]\n",
        "n_list = [20, 60, 80]\n",
        "\n",
        "def recommender(user_index, item_index, n_list, k_list, R, movie_list, user_average_ratings, U_matrix, S_matrix, VT_matrix):\n",
        "    \"\"\"\n",
        "    Recommends items to the user based on the given parameters\n",
        "\n",
        "    args:\n",
        "        user_index<int>: index of the user\n",
        "        item_index<int>: index of the item\n",
        "        n_list<list>: list of recommendation counts\n",
        "        k_list<list>: list of reduced dimension counts\n",
        "        R<np.Array>: user-item matrix\n",
        "        movie_list<list>: list of movie names\n",
        "        user_average_ratings<np.Array>: average ratings of users\n",
        "        U_matrix<np.Array>: left singular vectors\n",
        "        S_matrix<np.Array>: singular values\n",
        "        VT_matrix<np.Array>: right singular vectors\n",
        "\n",
        "    returns:\n",
        "        output<list>: list of recommendations\n",
        "    \"\"\"\n",
        "\n",
        "    output = list()\n",
        "\n",
        "    for k_value in k_list:\n",
        "        U_k = dim_reduction_U(U_matrix, k_value)\n",
        "        S_k = dim_reduction_S(S_matrix, k_value)\n",
        "        V_kT = dim_reduction_V(np.transpose(VT_matrix), k_value)\n",
        "\n",
        "        n_items = np.sqrt(S_k) @ V_kT\n",
        "\n",
        "        s = adjusted_cosine_similarity_matrix(n_items)\n",
        "\n",
        "        prediction1, top_recommendations1 = prediction_generation(R, s, user_index, item_index, n_list[0], user_average_ratings)\n",
        "        prediction2, top_recommendations2 = prediction_generation(R, s, user_index, item_index, n_list[1], user_average_ratings)\n",
        "        prediction3, top_recommendations3 = prediction_generation(R, s, user_index, item_index, n_list[2], user_average_ratings)\n",
        "\n",
        "        output.append([k_value, n_list[0], prediction1, top_recommendations1])\n",
        "        output.append([k_value, n_list[1], prediction2, top_recommendations2])\n",
        "        output.append([k_value, n_list[2], prediction3, top_recommendations3])\n",
        "\n",
        "    return output\n",
        "\n",
        "analysis_data = recommender(user_index, item_index, n_list, k_list, R_norm, movies, user_avarge_ratings, U, S, VT)\n",
        "\n",
        "# do not take into consideration this cell's output, the plots are meaningless but kept in due to processing costs."
      ]
    },
    {
      "cell_type": "markdown",
      "metadata": {},
      "source": [
        "## Experiment No.1 Finding the Optimal $k$ Value"
      ]
    },
    {
      "cell_type": "code",
      "execution_count": 42,
      "metadata": {
        "colab": {
          "base_uri": "https://localhost:8080/",
          "height": 564
        },
        "id": "CbVEnH6LMp69",
        "outputId": "674d62ae-123b-45dd-b089-a8a85fa871a1"
      },
      "outputs": [
        {
          "data": {
            "image/png": "[encoded data removed]",
            "text/plain": [
              "<Figure size 1000x600 with 1 Axes>"
            ]
          },
          "metadata": {},
          "output_type": "display_data"
        }
      ],
      "source": [
        "data_dict = dict()\n",
        "\n",
        "for k_value in k_list:\n",
        "    data_dict[k_value] = 0\n",
        "\n",
        "for data in analysis_data:\n",
        "    data_dict[data[0]] += np.mean(data[-1])\n",
        "\n",
        "x_values = list()\n",
        "y_values = list()\n",
        "\n",
        "for k_value in k_list:\n",
        "    if k_value in data_dict:\n",
        "        x_values.append(k_value)\n",
        "        y_values.append(data_dict[k_value])\n",
        "\n",
        "plt.figure(figsize=(10, 6))\n",
        "plt.plot(x_values, y_values, marker=\"o\")\n",
        "plt.xticks(k_list)\n",
        "plt.xlabel(\"k\")\n",
        "plt.ylabel(\"Prediction Avgs. (for all $n$)\")\n",
        "plt.title(\"Prediction Avgs. vs k\")\n",
        "plt.show()"
      ]
    },
    {
      "cell_type": "code",
      "execution_count": 43,
      "metadata": {
        "colab": {
          "base_uri": "https://localhost:8080/",
          "height": 566
        },
        "id": "YSXQSUXwL7Jj",
        "outputId": "6f388bed-0ef4-4194-8088-cec21c410519"
      },
      "outputs": [
        {
          "data": {
            "image/png": "[encoded data removed]",
            "text/plain": [
              "<Figure size 1000x600 with 1 Axes>"
            ]
          },
          "metadata": {},
          "output_type": "display_data"
        }
      ],
      "source": [
        "data_dict6 = dict()\n",
        "\n",
        "for n_value in n_list:\n",
        "    data_dict6[n_value] = 0\n",
        "\n",
        "for data in analysis_data:\n",
        "    if data[0] == 6:\n",
        "        data_dict6[data[1]] += np.mean(data[-1])\n",
        "\n",
        "x_values6 = list()\n",
        "y_values6 = list()\n",
        "\n",
        "for n_value in n_list:\n",
        "    if n_value in data_dict6:\n",
        "        x_values6.append(n_value)\n",
        "        y_values6.append(data_dict6[n_value])\n",
        "\n",
        "plt.figure(figsize=(10, 6))\n",
        "plt.plot(x_values6, y_values6, marker=\"o\")\n",
        "plt.xlabel(\"n\")\n",
        "plt.ylabel(\"Prediction Avgs. (for all n)\")\n",
        "plt.title(\"Prediction vs n ($k=6$)\")\n",
        "plt.show()\n"
      ]
    }
  ],
  "metadata": {
    "accelerator": "GPU",
    "colab": {
      "gpuType": "A100",
      "provenance": []
    },
    "kernelspec": {
      "display_name": "Python 3",
      "name": "python3"
    },
    "language_info": {
      "codemirror_mode": {
        "name": "ipython",
        "version": 3
      },
      "file_extension": ".py",
      "mimetype": "text/x-python",
      "name": "python",
      "nbconvert_exporter": "python",
      "pygments_lexer": "ipython3",
      "version": "3.11.8"
    }
  },
  "nbformat": 4,
  "nbformat_minor": 0
}
